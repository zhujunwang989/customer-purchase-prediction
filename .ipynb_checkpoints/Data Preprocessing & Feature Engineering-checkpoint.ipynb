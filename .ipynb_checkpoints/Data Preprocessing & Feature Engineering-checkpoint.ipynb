{
 "cells": [
  {
   "cell_type": "markdown",
   "metadata": {},
   "source": [
    "#  Data Preprocessing & Feature Engineering - Customer Purchase Prediction"
   ]
  },
  {
   "cell_type": "code",
   "execution_count": 3,
   "metadata": {},
   "outputs": [],
   "source": [
    "import pandas as pd\n",
    "import  numpy as np\n",
    "import matplotlib.pyplot as plt\n",
    "import seaborn as sns"
   ]
  },
  {
   "cell_type": "code",
   "execution_count": null,
   "metadata": {},
   "outputs": [],
   "source": [
    "# Comment Code: \n",
    "# Windows or Linux: Ctrl + /\n",
    "# Mac OS: Command + /"
   ]
  },
  {
   "cell_type": "markdown",
   "metadata": {},
   "source": [
    "## Function"
   ]
  },
  {
   "cell_type": "code",
   "execution_count": null,
   "metadata": {},
   "outputs": [],
   "source": []
  },
  {
   "cell_type": "code",
   "execution_count": null,
   "metadata": {},
   "outputs": [],
   "source": []
  },
  {
   "cell_type": "markdown",
   "metadata": {},
   "source": [
    "## Read Data"
   ]
  },
  {
   "cell_type": "code",
   "execution_count": 12,
   "metadata": {},
   "outputs": [],
   "source": [
    "# submit data is used for evaluating prediction model performance\n",
    "submit = pd.read_csv('submission.csv', encoding='utf-8')"
   ]
  },
  {
   "cell_type": "code",
   "execution_count": 17,
   "metadata": {},
   "outputs": [
    {
     "data": {
      "text/plain": [
       "(1585986, 2)"
      ]
     },
     "execution_count": 17,
     "metadata": {},
     "output_type": "execute_result"
    }
   ],
   "source": [
    "submit.shape"
   ]
  },
  {
   "cell_type": "code",
   "execution_count": 13,
   "metadata": {},
   "outputs": [],
   "source": [
    "# train data is consist of customer demographics, order history, and goods details\n",
    "train = pd.read_csv('train.csv', encoding='utf-8')"
   ]
  },
  {
   "cell_type": "code",
   "execution_count": 18,
   "metadata": {},
   "outputs": [
    {
     "data": {
      "text/plain": [
       "(606226, 29)"
      ]
     },
     "execution_count": 18,
     "metadata": {},
     "output_type": "execute_result"
    }
   ],
   "source": [
    "train.shape"
   ]
  },
  {
   "cell_type": "code",
   "execution_count": 19,
   "metadata": {},
   "outputs": [
    {
     "data": {
      "text/html": [
       "<div>\n",
       "<style scoped>\n",
       "    .dataframe tbody tr th:only-of-type {\n",
       "        vertical-align: middle;\n",
       "    }\n",
       "\n",
       "    .dataframe tbody tr th {\n",
       "        vertical-align: top;\n",
       "    }\n",
       "\n",
       "    .dataframe thead th {\n",
       "        text-align: right;\n",
       "    }\n",
       "</style>\n",
       "<table border=\"1\" class=\"dataframe\">\n",
       "  <thead>\n",
       "    <tr style=\"text-align: right;\">\n",
       "      <th></th>\n",
       "      <th>customer_id</th>\n",
       "      <th>result</th>\n",
       "    </tr>\n",
       "  </thead>\n",
       "  <tbody>\n",
       "    <tr>\n",
       "      <th>0</th>\n",
       "      <td>1000000</td>\n",
       "      <td>0.0</td>\n",
       "    </tr>\n",
       "    <tr>\n",
       "      <th>1</th>\n",
       "      <td>1000014</td>\n",
       "      <td>0.0</td>\n",
       "    </tr>\n",
       "    <tr>\n",
       "      <th>2</th>\n",
       "      <td>1000034</td>\n",
       "      <td>0.0</td>\n",
       "    </tr>\n",
       "  </tbody>\n",
       "</table>\n",
       "</div>"
      ],
      "text/plain": [
       "   customer_id  result\n",
       "0      1000000     0.0\n",
       "1      1000014     0.0\n",
       "2      1000034     0.0"
      ]
     },
     "execution_count": 19,
     "metadata": {},
     "output_type": "execute_result"
    }
   ],
   "source": [
    "submit.head(3)"
   ]
  },
  {
   "cell_type": "code",
   "execution_count": null,
   "metadata": {},
   "outputs": [],
   "source": []
  },
  {
   "cell_type": "markdown",
   "metadata": {},
   "source": [
    "## Data Preprocessing"
   ]
  },
  {
   "cell_type": "code",
   "execution_count": 28,
   "metadata": {},
   "outputs": [
    {
     "data": {
      "text/plain": [
       "is_member_actived         100.000000\n",
       "member_status             100.000000\n",
       "customer_gender           100.000000\n",
       "customer_city               0.065157\n",
       "customer_province           0.064497\n",
       "goods_price                 0.019795\n",
       "goods_delist_time           0.000165\n",
       "is_customer_rate            0.000165\n",
       "order_detail_status         0.000165\n",
       "order_detail_goods_num      0.000165\n",
       "order_detail_amount         0.000165\n",
       "order_detail_payment        0.000165\n",
       "goods_list_time             0.000165\n",
       "order_detail_discount       0.000165\n",
       "member_id                   0.000165\n",
       "customer_id                 0.000165\n",
       "goods_id                    0.000165\n",
       "goods_class_id              0.000165\n",
       "goods_status                0.000165\n",
       "goods_has_discount          0.000165\n",
       "order_count                 0.000000\n",
       "order_status                0.000000\n",
       "order_pay_time              0.000000\n",
       "order_total_discount        0.000000\n",
       "order_total_payment         0.000000\n",
       "order_amount                0.000000\n",
       "order_total_num             0.000000\n",
       "order_id                    0.000000\n",
       "order_detail_id             0.000000\n",
       "dtype: float64"
      ]
     },
     "execution_count": 28,
     "metadata": {},
     "output_type": "execute_result"
    }
   ],
   "source": [
    "train.isna().mean().sort_values(ascending = False)*100"
   ]
  },
  {
   "cell_type": "code",
   "execution_count": 29,
   "metadata": {},
   "outputs": [],
   "source": [
    "drop_cols = ['is_member_actived', 'member_status', 'customer_gender']\n",
    "train.drop(drop_cols, axis = 1, inplace =  True)"
   ]
  },
  {
   "cell_type": "code",
   "execution_count": 30,
   "metadata": {},
   "outputs": [
    {
     "data": {
      "text/plain": [
       "(606226, 26)"
      ]
     },
     "execution_count": 30,
     "metadata": {},
     "output_type": "execute_result"
    }
   ],
   "source": [
    "train.shape"
   ]
  },
  {
   "cell_type": "code",
   "execution_count": 31,
   "metadata": {},
   "outputs": [
    {
     "name": "stdout",
     "output_type": "stream",
     "text": [
      "<class 'pandas.core.frame.DataFrame'>\n",
      "RangeIndex: 606226 entries, 0 to 606225\n",
      "Data columns (total 26 columns):\n",
      "order_detail_id           606226 non-null int64\n",
      "order_id                  606226 non-null int64\n",
      "order_total_num           606226 non-null float64\n",
      "order_amount              606226 non-null float64\n",
      "order_total_payment       606226 non-null float64\n",
      "order_total_discount      606226 non-null float64\n",
      "order_pay_time            606226 non-null object\n",
      "order_status              606226 non-null int64\n",
      "order_count               606226 non-null float64\n",
      "is_customer_rate          606225 non-null float64\n",
      "order_detail_status       606225 non-null float64\n",
      "order_detail_goods_num    606225 non-null float64\n",
      "order_detail_amount       606225 non-null float64\n",
      "order_detail_payment      606225 non-null float64\n",
      "order_detail_discount     606225 non-null float64\n",
      "customer_province         605835 non-null object\n",
      "customer_city             605831 non-null object\n",
      "member_id                 606225 non-null float64\n",
      "customer_id               606225 non-null float64\n",
      "goods_id                  606225 non-null float64\n",
      "goods_class_id            606225 non-null float64\n",
      "goods_price               606106 non-null float64\n",
      "goods_status              606225 non-null float64\n",
      "goods_has_discount        606225 non-null float64\n",
      "goods_list_time           606225 non-null object\n",
      "goods_delist_time         606225 non-null object\n",
      "dtypes: float64(18), int64(3), object(5)\n",
      "memory usage: 120.3+ MB\n"
     ]
    }
   ],
   "source": [
    "train.info()"
   ]
  },
  {
   "cell_type": "code",
   "execution_count": 32,
   "metadata": {},
   "outputs": [],
   "source": [
    "# convert datetime columns\n",
    "time_cols  = ['order_pay_time', 'goods_list_time', 'goods_delist_time']\n",
    "for i in time_cols:\n",
    "    train[i] = pd.to_datetime(train[i])"
   ]
  },
  {
   "cell_type": "code",
   "execution_count": 33,
   "metadata": {},
   "outputs": [
    {
     "name": "stdout",
     "output_type": "stream",
     "text": [
      "<class 'pandas.core.frame.DataFrame'>\n",
      "RangeIndex: 606226 entries, 0 to 606225\n",
      "Data columns (total 26 columns):\n",
      "order_detail_id           606226 non-null int64\n",
      "order_id                  606226 non-null int64\n",
      "order_total_num           606226 non-null float64\n",
      "order_amount              606226 non-null float64\n",
      "order_total_payment       606226 non-null float64\n",
      "order_total_discount      606226 non-null float64\n",
      "order_pay_time            606226 non-null datetime64[ns]\n",
      "order_status              606226 non-null int64\n",
      "order_count               606226 non-null float64\n",
      "is_customer_rate          606225 non-null float64\n",
      "order_detail_status       606225 non-null float64\n",
      "order_detail_goods_num    606225 non-null float64\n",
      "order_detail_amount       606225 non-null float64\n",
      "order_detail_payment      606225 non-null float64\n",
      "order_detail_discount     606225 non-null float64\n",
      "customer_province         605835 non-null object\n",
      "customer_city             605831 non-null object\n",
      "member_id                 606225 non-null float64\n",
      "customer_id               606225 non-null float64\n",
      "goods_id                  606225 non-null float64\n",
      "goods_class_id            606225 non-null float64\n",
      "goods_price               606106 non-null float64\n",
      "goods_status              606225 non-null float64\n",
      "goods_has_discount        606225 non-null float64\n",
      "goods_list_time           606225 non-null datetime64[ns]\n",
      "goods_delist_time         606225 non-null datetime64[ns]\n",
      "dtypes: datetime64[ns](3), float64(18), int64(3), object(2)\n",
      "memory usage: 120.3+ MB\n"
     ]
    }
   ],
   "source": [
    "train.info()"
   ]
  },
  {
   "cell_type": "code",
   "execution_count": 34,
   "metadata": {},
   "outputs": [
    {
     "data": {
      "text/html": [
       "<div>\n",
       "<style scoped>\n",
       "    .dataframe tbody tr th:only-of-type {\n",
       "        vertical-align: middle;\n",
       "    }\n",
       "\n",
       "    .dataframe tbody tr th {\n",
       "        vertical-align: top;\n",
       "    }\n",
       "\n",
       "    .dataframe thead th {\n",
       "        text-align: right;\n",
       "    }\n",
       "</style>\n",
       "<table border=\"1\" class=\"dataframe\">\n",
       "  <thead>\n",
       "    <tr style=\"text-align: right;\">\n",
       "      <th></th>\n",
       "      <th>order_detail_id</th>\n",
       "      <th>order_id</th>\n",
       "      <th>order_total_num</th>\n",
       "      <th>order_amount</th>\n",
       "      <th>order_total_payment</th>\n",
       "      <th>order_total_discount</th>\n",
       "      <th>order_pay_time</th>\n",
       "      <th>order_status</th>\n",
       "      <th>order_count</th>\n",
       "      <th>is_customer_rate</th>\n",
       "      <th>...</th>\n",
       "      <th>customer_city</th>\n",
       "      <th>member_id</th>\n",
       "      <th>customer_id</th>\n",
       "      <th>goods_id</th>\n",
       "      <th>goods_class_id</th>\n",
       "      <th>goods_price</th>\n",
       "      <th>goods_status</th>\n",
       "      <th>goods_has_discount</th>\n",
       "      <th>goods_list_time</th>\n",
       "      <th>goods_delist_time</th>\n",
       "    </tr>\n",
       "  </thead>\n",
       "  <tbody>\n",
       "    <tr>\n",
       "      <th>0</th>\n",
       "      <td>1000000</td>\n",
       "      <td>1000000</td>\n",
       "      <td>1.0</td>\n",
       "      <td>239.9</td>\n",
       "      <td>96.9</td>\n",
       "      <td>0.0</td>\n",
       "      <td>2012-11-01 00:10:56</td>\n",
       "      <td>6</td>\n",
       "      <td>1.0</td>\n",
       "      <td>0.0</td>\n",
       "      <td>...</td>\n",
       "      <td>北京市</td>\n",
       "      <td>0.0</td>\n",
       "      <td>1000000.0</td>\n",
       "      <td>998.0</td>\n",
       "      <td>998.0</td>\n",
       "      <td>54.909289</td>\n",
       "      <td>1.0</td>\n",
       "      <td>0.0</td>\n",
       "      <td>2014-10-25 11:08:07</td>\n",
       "      <td>2014-11-01 11:08:07</td>\n",
       "    </tr>\n",
       "    <tr>\n",
       "      <th>1</th>\n",
       "      <td>1001530</td>\n",
       "      <td>1001327</td>\n",
       "      <td>2.0</td>\n",
       "      <td>288.0</td>\n",
       "      <td>96.9</td>\n",
       "      <td>0.0</td>\n",
       "      <td>2013-08-31 23:14:42</td>\n",
       "      <td>6</td>\n",
       "      <td>2.0</td>\n",
       "      <td>0.0</td>\n",
       "      <td>...</td>\n",
       "      <td>鄂尔多斯市</td>\n",
       "      <td>0.0</td>\n",
       "      <td>1001324.0</td>\n",
       "      <td>1953.0</td>\n",
       "      <td>1953.0</td>\n",
       "      <td>45.961352</td>\n",
       "      <td>0.0</td>\n",
       "      <td>1.0</td>\n",
       "      <td>2013-08-28 17:27:50</td>\n",
       "      <td>2013-09-01 00:38:17</td>\n",
       "    </tr>\n",
       "    <tr>\n",
       "      <th>2</th>\n",
       "      <td>1001531</td>\n",
       "      <td>1001327</td>\n",
       "      <td>2.0</td>\n",
       "      <td>288.0</td>\n",
       "      <td>96.9</td>\n",
       "      <td>0.0</td>\n",
       "      <td>2013-08-31 23:14:42</td>\n",
       "      <td>6</td>\n",
       "      <td>2.0</td>\n",
       "      <td>0.0</td>\n",
       "      <td>...</td>\n",
       "      <td>鄂尔多斯市</td>\n",
       "      <td>0.0</td>\n",
       "      <td>1001324.0</td>\n",
       "      <td>1083.0</td>\n",
       "      <td>1083.0</td>\n",
       "      <td>53.035439</td>\n",
       "      <td>1.0</td>\n",
       "      <td>0.0</td>\n",
       "      <td>2014-10-29 18:21:05</td>\n",
       "      <td>2014-11-05 18:21:05</td>\n",
       "    </tr>\n",
       "    <tr>\n",
       "      <th>3</th>\n",
       "      <td>1001532</td>\n",
       "      <td>1001328</td>\n",
       "      <td>3.0</td>\n",
       "      <td>180.0</td>\n",
       "      <td>89.7</td>\n",
       "      <td>0.0</td>\n",
       "      <td>2013-08-31 22:06:35</td>\n",
       "      <td>6</td>\n",
       "      <td>1.0</td>\n",
       "      <td>0.0</td>\n",
       "      <td>...</td>\n",
       "      <td>杭州市</td>\n",
       "      <td>0.0</td>\n",
       "      <td>1001325.0</td>\n",
       "      <td>1013.0</td>\n",
       "      <td>1013.0</td>\n",
       "      <td>46.046917</td>\n",
       "      <td>1.0</td>\n",
       "      <td>1.0</td>\n",
       "      <td>2014-10-25 11:00:00</td>\n",
       "      <td>2014-11-01 11:00:00</td>\n",
       "    </tr>\n",
       "    <tr>\n",
       "      <th>4</th>\n",
       "      <td>1001533</td>\n",
       "      <td>1001329</td>\n",
       "      <td>1.0</td>\n",
       "      <td>159.9</td>\n",
       "      <td>65.9</td>\n",
       "      <td>0.0</td>\n",
       "      <td>2013-08-31 21:33:36</td>\n",
       "      <td>6</td>\n",
       "      <td>1.0</td>\n",
       "      <td>0.0</td>\n",
       "      <td>...</td>\n",
       "      <td>北京市</td>\n",
       "      <td>0.0</td>\n",
       "      <td>1001326.0</td>\n",
       "      <td>1628.0</td>\n",
       "      <td>1628.0</td>\n",
       "      <td>50.722161</td>\n",
       "      <td>1.0</td>\n",
       "      <td>0.0</td>\n",
       "      <td>2014-10-23 15:35:33</td>\n",
       "      <td>2014-10-30 15:35:33</td>\n",
       "    </tr>\n",
       "  </tbody>\n",
       "</table>\n",
       "<p>5 rows × 26 columns</p>\n",
       "</div>"
      ],
      "text/plain": [
       "   order_detail_id  order_id  order_total_num  order_amount  \\\n",
       "0          1000000   1000000              1.0         239.9   \n",
       "1          1001530   1001327              2.0         288.0   \n",
       "2          1001531   1001327              2.0         288.0   \n",
       "3          1001532   1001328              3.0         180.0   \n",
       "4          1001533   1001329              1.0         159.9   \n",
       "\n",
       "   order_total_payment  order_total_discount      order_pay_time  \\\n",
       "0                 96.9                   0.0 2012-11-01 00:10:56   \n",
       "1                 96.9                   0.0 2013-08-31 23:14:42   \n",
       "2                 96.9                   0.0 2013-08-31 23:14:42   \n",
       "3                 89.7                   0.0 2013-08-31 22:06:35   \n",
       "4                 65.9                   0.0 2013-08-31 21:33:36   \n",
       "\n",
       "   order_status  order_count  is_customer_rate  ...  customer_city  member_id  \\\n",
       "0             6          1.0               0.0  ...            北京市        0.0   \n",
       "1             6          2.0               0.0  ...          鄂尔多斯市        0.0   \n",
       "2             6          2.0               0.0  ...          鄂尔多斯市        0.0   \n",
       "3             6          1.0               0.0  ...            杭州市        0.0   \n",
       "4             6          1.0               0.0  ...            北京市        0.0   \n",
       "\n",
       "   customer_id  goods_id  goods_class_id goods_price goods_status  \\\n",
       "0    1000000.0     998.0           998.0   54.909289          1.0   \n",
       "1    1001324.0    1953.0          1953.0   45.961352          0.0   \n",
       "2    1001324.0    1083.0          1083.0   53.035439          1.0   \n",
       "3    1001325.0    1013.0          1013.0   46.046917          1.0   \n",
       "4    1001326.0    1628.0          1628.0   50.722161          1.0   \n",
       "\n",
       "   goods_has_discount     goods_list_time   goods_delist_time  \n",
       "0                 0.0 2014-10-25 11:08:07 2014-11-01 11:08:07  \n",
       "1                 1.0 2013-08-28 17:27:50 2013-09-01 00:38:17  \n",
       "2                 0.0 2014-10-29 18:21:05 2014-11-05 18:21:05  \n",
       "3                 1.0 2014-10-25 11:00:00 2014-11-01 11:00:00  \n",
       "4                 0.0 2014-10-23 15:35:33 2014-10-30 15:35:33  \n",
       "\n",
       "[5 rows x 26 columns]"
      ]
     },
     "execution_count": 34,
     "metadata": {},
     "output_type": "execute_result"
    }
   ],
   "source": [
    "train.head()"
   ]
  },
  {
   "cell_type": "code",
   "execution_count": 40,
   "metadata": {},
   "outputs": [
    {
     "data": {
      "text/plain": [
       "0.0    587051\n",
       "1.0     19174\n",
       "NaN         1\n",
       "Name: is_customer_rate, dtype: int64"
      ]
     },
     "execution_count": 40,
     "metadata": {},
     "output_type": "execute_result"
    }
   ],
   "source": [
    "# whether customer gave review or not\n",
    "train.is_customer_rate.value_counts(dropna = False)"
   ]
  },
  {
   "cell_type": "code",
   "execution_count": 39,
   "metadata": {},
   "outputs": [
    {
     "data": {
      "text/plain": [
       "member_id                      1\n",
       "goods_has_discount             2\n",
       "is_customer_rate               2\n",
       "goods_status                   3\n",
       "order_status                   5\n",
       "order_detail_status            5\n",
       "order_count                   16\n",
       "customer_province             32\n",
       "order_detail_goods_num       145\n",
       "order_total_num              148\n",
       "customer_city                370\n",
       "goods_delist_time            791\n",
       "goods_list_time              825\n",
       "goods_class_id               928\n",
       "goods_id                     928\n",
       "order_detail_amount         1556\n",
       "order_detail_discount       2671\n",
       "order_amount                4251\n",
       "order_total_discount        5001\n",
       "order_detail_payment       13098\n",
       "order_total_payment        18774\n",
       "order_pay_time            426038\n",
       "customer_id               486869\n",
       "order_id                  516865\n",
       "goods_price               606106\n",
       "order_detail_id           606226\n",
       "dtype: int64"
      ]
     },
     "execution_count": 39,
     "metadata": {},
     "output_type": "execute_result"
    }
   ],
   "source": [
    "train.nunique().sort_values()"
   ]
  },
  {
   "cell_type": "code",
   "execution_count": 41,
   "metadata": {},
   "outputs": [
    {
     "data": {
      "text/plain": [
       "(606226, 26)"
      ]
     },
     "execution_count": 41,
     "metadata": {},
     "output_type": "execute_result"
    }
   ],
   "source": [
    "train.shape # no duplicates"
   ]
  },
  {
   "cell_type": "code",
   "execution_count": 42,
   "metadata": {},
   "outputs": [],
   "source": [
    "train.drop('member_id', axis = 1, inplace = True)"
   ]
  },
  {
   "cell_type": "code",
   "execution_count": 43,
   "metadata": {},
   "outputs": [
    {
     "data": {
      "text/plain": [
       "(606226, 25)"
      ]
     },
     "execution_count": 43,
     "metadata": {},
     "output_type": "execute_result"
    }
   ],
   "source": [
    "train.shape"
   ]
  },
  {
   "cell_type": "code",
   "execution_count": null,
   "metadata": {},
   "outputs": [],
   "source": [
    "train1 = train.dropna()"
   ]
  },
  {
   "cell_type": "code",
   "execution_count": 49,
   "metadata": {},
   "outputs": [
    {
     "data": {
      "text/plain": [
       "customer_city             395\n",
       "customer_province         391\n",
       "goods_price               120\n",
       "goods_delist_time           1\n",
       "order_detail_discount       1\n",
       "is_customer_rate            1\n",
       "order_detail_status         1\n",
       "order_detail_goods_num      1\n",
       "goods_list_time             1\n",
       "order_detail_payment        1\n",
       "order_detail_amount         1\n",
       "customer_id                 1\n",
       "goods_id                    1\n",
       "goods_class_id              1\n",
       "goods_status                1\n",
       "goods_has_discount          1\n",
       "order_count                 0\n",
       "order_status                0\n",
       "order_pay_time              0\n",
       "order_total_discount        0\n",
       "order_total_payment         0\n",
       "order_amount                0\n",
       "order_total_num             0\n",
       "order_id                    0\n",
       "order_detail_id             0\n",
       "dtype: int64"
      ]
     },
     "execution_count": 49,
     "metadata": {},
     "output_type": "execute_result"
    }
   ],
   "source": [
    "train.isna().sum().sort_values(ascending = False)"
   ]
  },
  {
   "cell_type": "code",
   "execution_count": 45,
   "metadata": {},
   "outputs": [
    {
     "data": {
      "text/plain": [
       "array(['北京', '内蒙古自治区', '浙江省', '甘肃省', '江苏省', '辽宁省', '河北省', '西藏自治区', '吉林省',\n",
       "       '江西省', '湖北省', '上海', '广东省', '河南省', '福建省', '广西壮族自治区', '云南省', '湖南省',\n",
       "       '天津', '山东省', '新疆维吾尔自治区', '重庆', '安徽省', '四川省', '宁夏回族自治区', '陕西省',\n",
       "       '黑龙江省', '山西省', '贵州省', '海南省', '青海省', nan, '台湾'], dtype=object)"
      ]
     },
     "execution_count": 45,
     "metadata": {},
     "output_type": "execute_result"
    }
   ],
   "source": [
    "train.customer_province.unique()"
   ]
  },
  {
   "cell_type": "code",
   "execution_count": 51,
   "metadata": {},
   "outputs": [],
   "source": [
    "train.drop('customer_city', axis = 1, inplace = True)"
   ]
  },
  {
   "cell_type": "code",
   "execution_count": 52,
   "metadata": {},
   "outputs": [
    {
     "data": {
      "text/plain": [
       "(606226, 24)"
      ]
     },
     "execution_count": 52,
     "metadata": {},
     "output_type": "execute_result"
    }
   ],
   "source": [
    "train.shape"
   ]
  },
  {
   "cell_type": "code",
   "execution_count": 55,
   "metadata": {},
   "outputs": [
    {
     "data": {
      "text/plain": [
       "(605765, 24)"
      ]
     },
     "execution_count": 55,
     "metadata": {},
     "output_type": "execute_result"
    }
   ],
   "source": [
    "train = train.dropna()\n",
    "train.shape"
   ]
  },
  {
   "cell_type": "code",
   "execution_count": 58,
   "metadata": {},
   "outputs": [],
   "source": [
    "train.to_pickle('processed_train.csv')"
   ]
  },
  {
   "cell_type": "code",
   "execution_count": null,
   "metadata": {},
   "outputs": [],
   "source": []
  },
  {
   "cell_type": "markdown",
   "metadata": {},
   "source": [
    "## Feature Engineering"
   ]
  },
  {
   "cell_type": "code",
   "execution_count": 61,
   "metadata": {},
   "outputs": [],
   "source": [
    "df = pd.read_pickle('processed_train.csv')"
   ]
  },
  {
   "cell_type": "code",
   "execution_count": 63,
   "metadata": {},
   "outputs": [
    {
     "data": {
      "text/html": [
       "<div>\n",
       "<style scoped>\n",
       "    .dataframe tbody tr th:only-of-type {\n",
       "        vertical-align: middle;\n",
       "    }\n",
       "\n",
       "    .dataframe tbody tr th {\n",
       "        vertical-align: top;\n",
       "    }\n",
       "\n",
       "    .dataframe thead th {\n",
       "        text-align: right;\n",
       "    }\n",
       "</style>\n",
       "<table border=\"1\" class=\"dataframe\">\n",
       "  <thead>\n",
       "    <tr style=\"text-align: right;\">\n",
       "      <th></th>\n",
       "      <th>order_detail_id</th>\n",
       "      <th>order_id</th>\n",
       "      <th>order_total_num</th>\n",
       "      <th>order_amount</th>\n",
       "      <th>order_total_payment</th>\n",
       "      <th>order_total_discount</th>\n",
       "      <th>order_pay_time</th>\n",
       "      <th>order_status</th>\n",
       "      <th>order_count</th>\n",
       "      <th>is_customer_rate</th>\n",
       "      <th>...</th>\n",
       "      <th>order_detail_discount</th>\n",
       "      <th>customer_province</th>\n",
       "      <th>customer_id</th>\n",
       "      <th>goods_id</th>\n",
       "      <th>goods_class_id</th>\n",
       "      <th>goods_price</th>\n",
       "      <th>goods_status</th>\n",
       "      <th>goods_has_discount</th>\n",
       "      <th>goods_list_time</th>\n",
       "      <th>goods_delist_time</th>\n",
       "    </tr>\n",
       "  </thead>\n",
       "  <tbody>\n",
       "    <tr>\n",
       "      <th>0</th>\n",
       "      <td>1000000</td>\n",
       "      <td>1000000</td>\n",
       "      <td>1.0</td>\n",
       "      <td>239.9</td>\n",
       "      <td>96.9</td>\n",
       "      <td>0.0</td>\n",
       "      <td>2012-11-01 00:10:56</td>\n",
       "      <td>6</td>\n",
       "      <td>1.0</td>\n",
       "      <td>0.0</td>\n",
       "      <td>...</td>\n",
       "      <td>143.0</td>\n",
       "      <td>北京</td>\n",
       "      <td>1000000.0</td>\n",
       "      <td>998.0</td>\n",
       "      <td>998.0</td>\n",
       "      <td>54.909289</td>\n",
       "      <td>1.0</td>\n",
       "      <td>0.0</td>\n",
       "      <td>2014-10-25 11:08:07</td>\n",
       "      <td>2014-11-01 11:08:07</td>\n",
       "    </tr>\n",
       "    <tr>\n",
       "      <th>1</th>\n",
       "      <td>1001530</td>\n",
       "      <td>1001327</td>\n",
       "      <td>2.0</td>\n",
       "      <td>288.0</td>\n",
       "      <td>96.9</td>\n",
       "      <td>0.0</td>\n",
       "      <td>2013-08-31 23:14:42</td>\n",
       "      <td>6</td>\n",
       "      <td>2.0</td>\n",
       "      <td>0.0</td>\n",
       "      <td>...</td>\n",
       "      <td>99.0</td>\n",
       "      <td>内蒙古自治区</td>\n",
       "      <td>1001324.0</td>\n",
       "      <td>1953.0</td>\n",
       "      <td>1953.0</td>\n",
       "      <td>45.961352</td>\n",
       "      <td>0.0</td>\n",
       "      <td>1.0</td>\n",
       "      <td>2013-08-28 17:27:50</td>\n",
       "      <td>2013-09-01 00:38:17</td>\n",
       "    </tr>\n",
       "    <tr>\n",
       "      <th>2</th>\n",
       "      <td>1001531</td>\n",
       "      <td>1001327</td>\n",
       "      <td>2.0</td>\n",
       "      <td>288.0</td>\n",
       "      <td>96.9</td>\n",
       "      <td>0.0</td>\n",
       "      <td>2013-08-31 23:14:42</td>\n",
       "      <td>6</td>\n",
       "      <td>2.0</td>\n",
       "      <td>0.0</td>\n",
       "      <td>...</td>\n",
       "      <td>92.1</td>\n",
       "      <td>内蒙古自治区</td>\n",
       "      <td>1001324.0</td>\n",
       "      <td>1083.0</td>\n",
       "      <td>1083.0</td>\n",
       "      <td>53.035439</td>\n",
       "      <td>1.0</td>\n",
       "      <td>0.0</td>\n",
       "      <td>2014-10-29 18:21:05</td>\n",
       "      <td>2014-11-05 18:21:05</td>\n",
       "    </tr>\n",
       "    <tr>\n",
       "      <th>3</th>\n",
       "      <td>1001532</td>\n",
       "      <td>1001328</td>\n",
       "      <td>3.0</td>\n",
       "      <td>180.0</td>\n",
       "      <td>89.7</td>\n",
       "      <td>0.0</td>\n",
       "      <td>2013-08-31 22:06:35</td>\n",
       "      <td>6</td>\n",
       "      <td>1.0</td>\n",
       "      <td>0.0</td>\n",
       "      <td>...</td>\n",
       "      <td>90.3</td>\n",
       "      <td>浙江省</td>\n",
       "      <td>1001325.0</td>\n",
       "      <td>1013.0</td>\n",
       "      <td>1013.0</td>\n",
       "      <td>46.046917</td>\n",
       "      <td>1.0</td>\n",
       "      <td>1.0</td>\n",
       "      <td>2014-10-25 11:00:00</td>\n",
       "      <td>2014-11-01 11:00:00</td>\n",
       "    </tr>\n",
       "    <tr>\n",
       "      <th>4</th>\n",
       "      <td>1001533</td>\n",
       "      <td>1001329</td>\n",
       "      <td>1.0</td>\n",
       "      <td>159.9</td>\n",
       "      <td>65.9</td>\n",
       "      <td>0.0</td>\n",
       "      <td>2013-08-31 21:33:36</td>\n",
       "      <td>6</td>\n",
       "      <td>1.0</td>\n",
       "      <td>0.0</td>\n",
       "      <td>...</td>\n",
       "      <td>94.0</td>\n",
       "      <td>北京</td>\n",
       "      <td>1001326.0</td>\n",
       "      <td>1628.0</td>\n",
       "      <td>1628.0</td>\n",
       "      <td>50.722161</td>\n",
       "      <td>1.0</td>\n",
       "      <td>0.0</td>\n",
       "      <td>2014-10-23 15:35:33</td>\n",
       "      <td>2014-10-30 15:35:33</td>\n",
       "    </tr>\n",
       "  </tbody>\n",
       "</table>\n",
       "<p>5 rows × 24 columns</p>\n",
       "</div>"
      ],
      "text/plain": [
       "   order_detail_id  order_id  order_total_num  order_amount  \\\n",
       "0          1000000   1000000              1.0         239.9   \n",
       "1          1001530   1001327              2.0         288.0   \n",
       "2          1001531   1001327              2.0         288.0   \n",
       "3          1001532   1001328              3.0         180.0   \n",
       "4          1001533   1001329              1.0         159.9   \n",
       "\n",
       "   order_total_payment  order_total_discount      order_pay_time  \\\n",
       "0                 96.9                   0.0 2012-11-01 00:10:56   \n",
       "1                 96.9                   0.0 2013-08-31 23:14:42   \n",
       "2                 96.9                   0.0 2013-08-31 23:14:42   \n",
       "3                 89.7                   0.0 2013-08-31 22:06:35   \n",
       "4                 65.9                   0.0 2013-08-31 21:33:36   \n",
       "\n",
       "   order_status  order_count  is_customer_rate  ...  order_detail_discount  \\\n",
       "0             6          1.0               0.0  ...                  143.0   \n",
       "1             6          2.0               0.0  ...                   99.0   \n",
       "2             6          2.0               0.0  ...                   92.1   \n",
       "3             6          1.0               0.0  ...                   90.3   \n",
       "4             6          1.0               0.0  ...                   94.0   \n",
       "\n",
       "   customer_province  customer_id  goods_id  goods_class_id goods_price  \\\n",
       "0                 北京    1000000.0     998.0           998.0   54.909289   \n",
       "1             内蒙古自治区    1001324.0    1953.0          1953.0   45.961352   \n",
       "2             内蒙古自治区    1001324.0    1083.0          1083.0   53.035439   \n",
       "3                浙江省    1001325.0    1013.0          1013.0   46.046917   \n",
       "4                 北京    1001326.0    1628.0          1628.0   50.722161   \n",
       "\n",
       "   goods_status  goods_has_discount     goods_list_time   goods_delist_time  \n",
       "0           1.0                 0.0 2014-10-25 11:08:07 2014-11-01 11:08:07  \n",
       "1           0.0                 1.0 2013-08-28 17:27:50 2013-09-01 00:38:17  \n",
       "2           1.0                 0.0 2014-10-29 18:21:05 2014-11-05 18:21:05  \n",
       "3           1.0                 1.0 2014-10-25 11:00:00 2014-11-01 11:00:00  \n",
       "4           1.0                 0.0 2014-10-23 15:35:33 2014-10-30 15:35:33  \n",
       "\n",
       "[5 rows x 24 columns]"
      ]
     },
     "execution_count": 63,
     "metadata": {},
     "output_type": "execute_result"
    }
   ],
   "source": [
    "df.head()"
   ]
  },
  {
   "cell_type": "code",
   "execution_count": null,
   "metadata": {},
   "outputs": [],
   "source": []
  },
  {
   "cell_type": "code",
   "execution_count": null,
   "metadata": {},
   "outputs": [],
   "source": []
  },
  {
   "cell_type": "code",
   "execution_count": null,
   "metadata": {},
   "outputs": [],
   "source": []
  }
 ],
 "metadata": {
  "kernelspec": {
   "display_name": "Python 3",
   "language": "python",
   "name": "python3"
  },
  "language_info": {
   "codemirror_mode": {
    "name": "ipython",
    "version": 3
   },
   "file_extension": ".py",
   "mimetype": "text/x-python",
   "name": "python",
   "nbconvert_exporter": "python",
   "pygments_lexer": "ipython3",
   "version": "3.7.3"
  }
 },
 "nbformat": 4,
 "nbformat_minor": 2
}
